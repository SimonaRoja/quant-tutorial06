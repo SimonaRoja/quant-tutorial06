{
 "cells": [
  {
   "cell_type": "markdown",
   "id": "c0c69677-33af-4b25-a78d-2ba5fb01e0fc",
   "metadata": {},
   "source": [
    "# Test Project — Algorithmic Trading"
   ]
  },
  {
   "cell_type": "markdown",
   "id": "60ef4df8-fc9d-4010-8cbe-4605f4783341",
   "metadata": {},
   "source": [
    "## Initialization"
   ]
  },
  {
   "cell_type": "markdown",
   "id": "548a946a-68df-4c69-b7ac-ed05655f432d",
   "metadata": {},
   "source": [
    "### Import"
   ]
  },
  {
   "cell_type": "code",
   "execution_count": 1,
   "id": "72ba4836-26c8-48d5-9a73-f1722176feaf",
   "metadata": {},
   "outputs": [],
   "source": [
    "import numpy as np\n",
    "import pandas as pd\n",
    "from pylab import plt, mpl"
   ]
  },
  {
   "cell_type": "markdown",
   "id": "a89d1cce-9a9a-428a-9da5-1335ca34881b",
   "metadata": {},
   "source": [
    "### Configuration"
   ]
  },
  {
   "cell_type": "code",
   "execution_count": 2,
   "id": "e1b1f00e-517d-4627-aabd-83b2208d565f",
   "metadata": {},
   "outputs": [],
   "source": [
    "plt.style.use('seaborn-v0_8')\n",
    "mpl.rcParams['savefig.dpi'] = 300\n",
    "mpl.rcParams['font.family'] = 'serif'"
   ]
  },
  {
   "cell_type": "markdown",
   "id": "6981e2ec-dfe5-4eb5-8454-73f6c05bc802",
   "metadata": {},
   "source": [
    "## Data Retrieval"
   ]
  },
  {
   "cell_type": "code",
   "execution_count": 3,
   "id": "3bcfc0cd-7322-4e5c-b353-cd26a854f737",
   "metadata": {},
   "outputs": [],
   "source": [
    "url = 'http://hilpisch.com/ref_eikon_eod_data.csv'"
   ]
  },
  {
   "cell_type": "code",
   "execution_count": 4,
   "id": "1ae55f20-9e33-4d36-ab9d-e98b140a027b",
   "metadata": {},
   "outputs": [],
   "source": [
    "raw = pd.read_csv(url, index_col=0, parse_dates=True)"
   ]
  },
  {
   "cell_type": "code",
   "execution_count": 5,
   "id": "87bc7126-0a21-4642-a356-3cfd1f87e6a8",
   "metadata": {},
   "outputs": [],
   "source": [
    "data = pd.DataFrame(raw['GDX'])"
   ]
  },
  {
   "cell_type": "code",
   "execution_count": 6,
   "id": "43bbff49-cbf6-406e-aaa3-d8aad0991d8a",
   "metadata": {},
   "outputs": [],
   "source": [
    "data.dropna(inplace=True)"
   ]
  },
  {
   "cell_type": "code",
   "execution_count": 7,
   "id": "f2d580c2-7116-4cc4-80c4-b4aa9e9d4179",
   "metadata": {},
   "outputs": [
    {
     "data": {
      "text/html": [
       "<div>\n",
       "<style scoped>\n",
       "    .dataframe tbody tr th:only-of-type {\n",
       "        vertical-align: middle;\n",
       "    }\n",
       "\n",
       "    .dataframe tbody tr th {\n",
       "        vertical-align: top;\n",
       "    }\n",
       "\n",
       "    .dataframe thead th {\n",
       "        text-align: right;\n",
       "    }\n",
       "</style>\n",
       "<table border=\"1\" class=\"dataframe\">\n",
       "  <thead>\n",
       "    <tr style=\"text-align: right;\">\n",
       "      <th></th>\n",
       "      <th>GDX</th>\n",
       "    </tr>\n",
       "    <tr>\n",
       "      <th>Date</th>\n",
       "      <th></th>\n",
       "    </tr>\n",
       "  </thead>\n",
       "  <tbody>\n",
       "    <tr>\n",
       "      <th>2010-01-04</th>\n",
       "      <td>47.71</td>\n",
       "    </tr>\n",
       "    <tr>\n",
       "      <th>2010-01-05</th>\n",
       "      <td>48.17</td>\n",
       "    </tr>\n",
       "    <tr>\n",
       "      <th>2010-01-06</th>\n",
       "      <td>49.34</td>\n",
       "    </tr>\n",
       "    <tr>\n",
       "      <th>2010-01-07</th>\n",
       "      <td>49.10</td>\n",
       "    </tr>\n",
       "    <tr>\n",
       "      <th>2010-01-08</th>\n",
       "      <td>49.84</td>\n",
       "    </tr>\n",
       "  </tbody>\n",
       "</table>\n",
       "</div>"
      ],
      "text/plain": [
       "              GDX\n",
       "Date             \n",
       "2010-01-04  47.71\n",
       "2010-01-05  48.17\n",
       "2010-01-06  49.34\n",
       "2010-01-07  49.10\n",
       "2010-01-08  49.84"
      ]
     },
     "execution_count": 7,
     "metadata": {},
     "output_type": "execute_result"
    }
   ],
   "source": [
    "data.head()"
   ]
  },
  {
   "cell_type": "markdown",
   "id": "fd53ba62-e48d-411f-b155-312fe1b75a0e",
   "metadata": {},
   "source": [
    "## Predictions\n",
    "- log return\n",
    "- direction (up or down)\n",
    "- log return as 5 categories\n",
    "- two SMAs (short and long window)\n",
    "- difference between the SMAs\n",
    "- two EWMAs (short and long window)\n",
    "- difference between the EWMAs\n",
    "- two rolling volatilities (short and long window)"
   ]
  },
  {
   "cell_type": "code",
   "execution_count": 8,
   "id": "5be9aa2e-ecd7-421c-9147-0addedcb326d",
   "metadata": {},
   "outputs": [],
   "source": [
    "short_window = 5\n",
    "long_window = 42"
   ]
  },
  {
   "cell_type": "markdown",
   "id": "5e8f32df-1467-46f7-91ae-2c9f8e1ef9a1",
   "metadata": {},
   "source": [
    "log return"
   ]
  },
  {
   "cell_type": "code",
   "execution_count": 9,
   "id": "b6ffb076-1643-4819-8577-416342e85f44",
   "metadata": {},
   "outputs": [],
   "source": [
    "data['r'] = np.log(data['GDX'] / data['GDX'].shift(1))"
   ]
  },
  {
   "cell_type": "markdown",
   "id": "af1ed3b8-7f0a-479b-83da-3da025b4cf1b",
   "metadata": {},
   "source": [
    "direction (up or down)"
   ]
  },
  {
   "cell_type": "code",
   "execution_count": 10,
   "id": "fb767207-eeec-4f59-9e23-d2635f1d1c52",
   "metadata": {},
   "outputs": [],
   "source": [
    "data['d'] = np.where(data['r'] > 0, 1, -1)"
   ]
  },
  {
   "cell_type": "markdown",
   "id": "68fa101b-6eb6-4b31-80dc-d0534484425b",
   "metadata": {},
   "source": [
    "-----\n",
    "Nicht sicher, ob der Code richtig ist"
   ]
  },
  {
   "cell_type": "code",
   "execution_count": null,
   "id": "1e9c0c93-ea8c-4b47-bb2a-a25e3f9f9db3",
   "metadata": {},
   "outputs": [],
   "source": []
  },
  {
   "cell_type": "markdown",
   "id": "654884d5-32bc-40f2-bf6d-62e743bbcbb0",
   "metadata": {},
   "source": [
    "-----"
   ]
  },
  {
   "cell_type": "markdown",
   "id": "bba0d68b-7da0-43c1-b99d-ad58da7a96ce",
   "metadata": {},
   "source": [
    "two SMAs (short and long window)"
   ]
  },
  {
   "cell_type": "code",
   "execution_count": 11,
   "id": "f0772038-560d-4bf5-b795-1b34bb3cda09",
   "metadata": {},
   "outputs": [],
   "source": [
    "data['sma_short'] =  data['GDX'].rolling(short_window).mean()"
   ]
  },
  {
   "cell_type": "code",
   "execution_count": 12,
   "id": "24af6e9b-173e-402e-8e56-1c4dfa7a03c5",
   "metadata": {},
   "outputs": [],
   "source": [
    "data['sma_long'] = data['GDX'].rolling(long_window).mean()"
   ]
  },
  {
   "cell_type": "markdown",
   "id": "0381a00c-0f44-48dd-9949-b510ecba820e",
   "metadata": {},
   "source": [
    "difference between the SMAs"
   ]
  },
  {
   "cell_type": "code",
   "execution_count": 13,
   "id": "4bca380a-d6cc-4583-b093-8accaaddd4fa",
   "metadata": {},
   "outputs": [],
   "source": [
    "data['mom_sma'] = np.where(data['sma_short'] > data['sma_long'], 1, -1)"
   ]
  },
  {
   "cell_type": "markdown",
   "id": "a54a7f08-e568-4107-bceb-5d423fdb27d4",
   "metadata": {},
   "source": [
    "two EWMAs (short and long window)"
   ]
  },
  {
   "cell_type": "markdown",
   "id": "24a79e66-a134-49b5-ae0a-1e07fe38bd73",
   "metadata": {},
   "source": [
    "difference between the EWMAs"
   ]
  },
  {
   "cell_type": "markdown",
   "id": "bc0c3d05-dea1-4b74-a931-b24e96700b49",
   "metadata": {},
   "source": [
    "two rolling volatilities (short and long window)"
   ]
  },
  {
   "cell_type": "code",
   "execution_count": 14,
   "id": "eff1a50b-639f-4ce6-bd81-bf3a8e076a5c",
   "metadata": {},
   "outputs": [],
   "source": [
    "data['vol_short'] =  data['r'].rolling(short_window).std()"
   ]
  },
  {
   "cell_type": "code",
   "execution_count": 15,
   "id": "b9e95bde-c386-48ad-b9b2-e8a77b53d46e",
   "metadata": {},
   "outputs": [],
   "source": [
    "data['vol_long'] = data['r'].rolling(long_window).std()"
   ]
  },
  {
   "cell_type": "code",
   "execution_count": 16,
   "id": "c59553e2-abef-4613-840a-3816bbb9d3bf",
   "metadata": {},
   "outputs": [],
   "source": [
    "features = ['r', 'd', 'sma_short', 'sma_long',  'mom_sma', 'vol_short', 'vol_long']"
   ]
  },
  {
   "cell_type": "code",
   "execution_count": 17,
   "id": "20f1c094-0c17-46a5-af3d-0db8ac2d2245",
   "metadata": {},
   "outputs": [],
   "source": [
    "data.dropna(inplace=True)"
   ]
  },
  {
   "cell_type": "code",
   "execution_count": 18,
   "id": "16aeba25-df69-4ba8-bd49-a881a25cbe4d",
   "metadata": {},
   "outputs": [
    {
     "data": {
      "text/html": [
       "<div>\n",
       "<style scoped>\n",
       "    .dataframe tbody tr th:only-of-type {\n",
       "        vertical-align: middle;\n",
       "    }\n",
       "\n",
       "    .dataframe tbody tr th {\n",
       "        vertical-align: top;\n",
       "    }\n",
       "\n",
       "    .dataframe thead th {\n",
       "        text-align: right;\n",
       "    }\n",
       "</style>\n",
       "<table border=\"1\" class=\"dataframe\">\n",
       "  <thead>\n",
       "    <tr style=\"text-align: right;\">\n",
       "      <th></th>\n",
       "      <th>GDX</th>\n",
       "      <th>r</th>\n",
       "      <th>d</th>\n",
       "      <th>sma_short</th>\n",
       "      <th>sma_long</th>\n",
       "      <th>mom_sma</th>\n",
       "      <th>vol_short</th>\n",
       "      <th>vol_long</th>\n",
       "    </tr>\n",
       "    <tr>\n",
       "      <th>Date</th>\n",
       "      <th></th>\n",
       "      <th></th>\n",
       "      <th></th>\n",
       "      <th></th>\n",
       "      <th></th>\n",
       "      <th></th>\n",
       "      <th></th>\n",
       "      <th></th>\n",
       "    </tr>\n",
       "  </thead>\n",
       "  <tbody>\n",
       "    <tr>\n",
       "      <th>2010-03-05</th>\n",
       "      <td>46.43</td>\n",
       "      <td>0.018477</td>\n",
       "      <td>1</td>\n",
       "      <td>45.7048</td>\n",
       "      <td>44.798429</td>\n",
       "      <td>1</td>\n",
       "      <td>0.015847</td>\n",
       "      <td>0.025611</td>\n",
       "    </tr>\n",
       "    <tr>\n",
       "      <th>2010-03-08</th>\n",
       "      <td>45.95</td>\n",
       "      <td>-0.010392</td>\n",
       "      <td>-1</td>\n",
       "      <td>45.9668</td>\n",
       "      <td>44.745571</td>\n",
       "      <td>1</td>\n",
       "      <td>0.017966</td>\n",
       "      <td>0.025601</td>\n",
       "    </tr>\n",
       "    <tr>\n",
       "      <th>2010-03-09</th>\n",
       "      <td>45.58</td>\n",
       "      <td>-0.008085</td>\n",
       "      <td>-1</td>\n",
       "      <td>45.9808</td>\n",
       "      <td>44.656048</td>\n",
       "      <td>1</td>\n",
       "      <td>0.016961</td>\n",
       "      <td>0.025310</td>\n",
       "    </tr>\n",
       "    <tr>\n",
       "      <th>2010-03-10</th>\n",
       "      <td>44.96</td>\n",
       "      <td>-0.013696</td>\n",
       "      <td>-1</td>\n",
       "      <td>45.7000</td>\n",
       "      <td>44.557476</td>\n",
       "      <td>1</td>\n",
       "      <td>0.014178</td>\n",
       "      <td>0.025372</td>\n",
       "    </tr>\n",
       "    <tr>\n",
       "      <th>2010-03-11</th>\n",
       "      <td>45.32</td>\n",
       "      <td>0.007975</td>\n",
       "      <td>1</td>\n",
       "      <td>45.6480</td>\n",
       "      <td>44.449857</td>\n",
       "      <td>1</td>\n",
       "      <td>0.013778</td>\n",
       "      <td>0.025281</td>\n",
       "    </tr>\n",
       "  </tbody>\n",
       "</table>\n",
       "</div>"
      ],
      "text/plain": [
       "              GDX         r  d  sma_short   sma_long  mom_sma  vol_short  \\\n",
       "Date                                                                       \n",
       "2010-03-05  46.43  0.018477  1    45.7048  44.798429        1   0.015847   \n",
       "2010-03-08  45.95 -0.010392 -1    45.9668  44.745571        1   0.017966   \n",
       "2010-03-09  45.58 -0.008085 -1    45.9808  44.656048        1   0.016961   \n",
       "2010-03-10  44.96 -0.013696 -1    45.7000  44.557476        1   0.014178   \n",
       "2010-03-11  45.32  0.007975  1    45.6480  44.449857        1   0.013778   \n",
       "\n",
       "            vol_long  \n",
       "Date                  \n",
       "2010-03-05  0.025611  \n",
       "2010-03-08  0.025601  \n",
       "2010-03-09  0.025310  \n",
       "2010-03-10  0.025372  \n",
       "2010-03-11  0.025281  "
      ]
     },
     "execution_count": 18,
     "metadata": {},
     "output_type": "execute_result"
    }
   ],
   "source": [
    "data.head()"
   ]
  },
  {
   "cell_type": "markdown",
   "id": "9a5ceac0-fe47-46ab-a4c8-569805cb32b0",
   "metadata": {},
   "source": [
    "## Create lagged features data for 5 lags"
   ]
  },
  {
   "cell_type": "code",
   "execution_count": 19,
   "id": "7c171821-02b6-4107-bb17-b7494b394caf",
   "metadata": {},
   "outputs": [],
   "source": [
    "lags = 5\n",
    "cols = list()\n",
    "for f in features:\n",
    "    for lag in range(1, lags + 1):\n",
    "            col = f'{f}_lag_{lag}'\n",
    "            data[col] = data['r'].shift(lag)\n",
    "            cols.append('Hallo')"
   ]
  },
  {
   "cell_type": "code",
   "execution_count": 20,
   "id": "195b5796-4662-42d2-acfe-f5a9df7ebc44",
   "metadata": {},
   "outputs": [],
   "source": [
    "data.dropna(inplace=True)"
   ]
  },
  {
   "cell_type": "markdown",
   "id": "fcc9feed-e1ea-4400-9931-94ac385a2dc4",
   "metadata": {},
   "source": [
    "## Split & Normalize the Data\n",
    "\n",
    "* Split the data set into training (70%) and testing data.\n",
    "* Normalize the training features data to have\n",
    "    * zero mean and\n",
    "    * standard deviation of one.\n",
    "* Normalize the test features data by the same moment values as the training data."
   ]
  },
  {
   "cell_type": "code",
   "execution_count": 21,
   "id": "71c95fe6-6c11-4988-8135-05a9c4bac1fd",
   "metadata": {},
   "outputs": [],
   "source": [
    "split = int(len(data) * 0.7)"
   ]
  },
  {
   "cell_type": "code",
   "execution_count": 22,
   "id": "8954a353-380f-4155-8a6b-75c6d02ed059",
   "metadata": {},
   "outputs": [],
   "source": [
    "train = data.iloc[:split].copy()"
   ]
  },
  {
   "cell_type": "code",
   "execution_count": 23,
   "id": "8016e5f1-f881-43a7-975a-06d93f740c6a",
   "metadata": {},
   "outputs": [],
   "source": [
    "mu, std = train.mean(), train.std()"
   ]
  },
  {
   "cell_type": "code",
   "execution_count": 24,
   "id": "e928fe11-8e39-43d9-a97a-7762a332704b",
   "metadata": {},
   "outputs": [],
   "source": [
    "train_norm = (train - mu) / std"
   ]
  },
  {
   "cell_type": "code",
   "execution_count": 25,
   "id": "e6bed61b-4311-42f1-aeb8-38c051dd8483",
   "metadata": {},
   "outputs": [],
   "source": [
    "test = data.iloc[split:].copy()"
   ]
  },
  {
   "cell_type": "code",
   "execution_count": 26,
   "id": "0e84469c-b7dc-46a7-8cc3-f928219b5516",
   "metadata": {},
   "outputs": [],
   "source": [
    "test_norm = (test - mu) / std"
   ]
  },
  {
   "cell_type": "code",
   "execution_count": 27,
   "id": "988959f0-035c-4285-aaae-f2178fc6e584",
   "metadata": {},
   "outputs": [
    {
     "data": {
      "text/html": [
       "<div>\n",
       "<style scoped>\n",
       "    .dataframe tbody tr th:only-of-type {\n",
       "        vertical-align: middle;\n",
       "    }\n",
       "\n",
       "    .dataframe tbody tr th {\n",
       "        vertical-align: top;\n",
       "    }\n",
       "\n",
       "    .dataframe thead th {\n",
       "        text-align: right;\n",
       "    }\n",
       "</style>\n",
       "<table border=\"1\" class=\"dataframe\">\n",
       "  <thead>\n",
       "    <tr style=\"text-align: right;\">\n",
       "      <th></th>\n",
       "      <th>GDX</th>\n",
       "      <th>r</th>\n",
       "      <th>d</th>\n",
       "      <th>sma_short</th>\n",
       "      <th>sma_long</th>\n",
       "      <th>mom_sma</th>\n",
       "      <th>vol_short</th>\n",
       "      <th>vol_long</th>\n",
       "      <th>r_lag_1</th>\n",
       "      <th>r_lag_2</th>\n",
       "      <th>...</th>\n",
       "      <th>vol_short_lag_1</th>\n",
       "      <th>vol_short_lag_2</th>\n",
       "      <th>vol_short_lag_3</th>\n",
       "      <th>vol_short_lag_4</th>\n",
       "      <th>vol_short_lag_5</th>\n",
       "      <th>vol_long_lag_1</th>\n",
       "      <th>vol_long_lag_2</th>\n",
       "      <th>vol_long_lag_3</th>\n",
       "      <th>vol_long_lag_4</th>\n",
       "      <th>vol_long_lag_5</th>\n",
       "    </tr>\n",
       "    <tr>\n",
       "      <th>Date</th>\n",
       "      <th></th>\n",
       "      <th></th>\n",
       "      <th></th>\n",
       "      <th></th>\n",
       "      <th></th>\n",
       "      <th></th>\n",
       "      <th></th>\n",
       "      <th></th>\n",
       "      <th></th>\n",
       "      <th></th>\n",
       "      <th></th>\n",
       "      <th></th>\n",
       "      <th></th>\n",
       "      <th></th>\n",
       "      <th></th>\n",
       "      <th></th>\n",
       "      <th></th>\n",
       "      <th></th>\n",
       "      <th></th>\n",
       "      <th></th>\n",
       "      <th></th>\n",
       "    </tr>\n",
       "  </thead>\n",
       "  <tbody>\n",
       "    <tr>\n",
       "      <th>2010-03-12</th>\n",
       "      <td>0.548041</td>\n",
       "      <td>-0.278755</td>\n",
       "      <td>-0.990587</td>\n",
       "      <td>0.570320</td>\n",
       "      <td>0.498346</td>\n",
       "      <td>1.069855</td>\n",
       "      <td>-1.343973</td>\n",
       "      <td>0.187615</td>\n",
       "      <td>0.331543</td>\n",
       "      <td>-0.534818</td>\n",
       "      <td>...</td>\n",
       "      <td>0.331543</td>\n",
       "      <td>-0.534818</td>\n",
       "      <td>-0.311839</td>\n",
       "      <td>-0.404665</td>\n",
       "      <td>0.751894</td>\n",
       "      <td>0.331543</td>\n",
       "      <td>-0.534818</td>\n",
       "      <td>-0.311839</td>\n",
       "      <td>-0.404665</td>\n",
       "      <td>0.751894</td>\n",
       "    </tr>\n",
       "    <tr>\n",
       "      <th>2010-03-15</th>\n",
       "      <td>0.544923</td>\n",
       "      <td>-0.030967</td>\n",
       "      <td>-0.990587</td>\n",
       "      <td>0.557708</td>\n",
       "      <td>0.493242</td>\n",
       "      <td>1.069855</td>\n",
       "      <td>-1.353755</td>\n",
       "      <td>0.106062</td>\n",
       "      <td>-0.280024</td>\n",
       "      <td>0.332517</td>\n",
       "      <td>...</td>\n",
       "      <td>-0.280024</td>\n",
       "      <td>0.332517</td>\n",
       "      <td>-0.536727</td>\n",
       "      <td>-0.312179</td>\n",
       "      <td>-0.405189</td>\n",
       "      <td>-0.280024</td>\n",
       "      <td>0.332517</td>\n",
       "      <td>-0.536727</td>\n",
       "      <td>-0.312179</td>\n",
       "      <td>-0.405189</td>\n",
       "    </tr>\n",
       "    <tr>\n",
       "      <th>2010-03-16</th>\n",
       "      <td>0.618513</td>\n",
       "      <td>1.049986</td>\n",
       "      <td>1.008886</td>\n",
       "      <td>0.564451</td>\n",
       "      <td>0.489140</td>\n",
       "      <td>1.069855</td>\n",
       "      <td>-0.692170</td>\n",
       "      <td>0.147441</td>\n",
       "      <td>-0.032082</td>\n",
       "      <td>-0.279168</td>\n",
       "      <td>...</td>\n",
       "      <td>-0.032082</td>\n",
       "      <td>-0.279168</td>\n",
       "      <td>0.331848</td>\n",
       "      <td>-0.537108</td>\n",
       "      <td>-0.312718</td>\n",
       "      <td>-0.032082</td>\n",
       "      <td>-0.279168</td>\n",
       "      <td>0.331848</td>\n",
       "      <td>-0.537108</td>\n",
       "      <td>-0.312718</td>\n",
       "    </tr>\n",
       "    <tr>\n",
       "      <th>2010-03-17</th>\n",
       "      <td>0.627867</td>\n",
       "      <td>0.143354</td>\n",
       "      <td>1.008886</td>\n",
       "      <td>0.580809</td>\n",
       "      <td>0.485653</td>\n",
       "      <td>1.069855</td>\n",
       "      <td>-0.951384</td>\n",
       "      <td>0.147705</td>\n",
       "      <td>1.049542</td>\n",
       "      <td>-0.031178</td>\n",
       "      <td>...</td>\n",
       "      <td>1.049542</td>\n",
       "      <td>-0.031178</td>\n",
       "      <td>-0.280711</td>\n",
       "      <td>0.331624</td>\n",
       "      <td>-0.537611</td>\n",
       "      <td>1.049542</td>\n",
       "      <td>-0.031178</td>\n",
       "      <td>-0.280711</td>\n",
       "      <td>0.331624</td>\n",
       "      <td>-0.537611</td>\n",
       "    </tr>\n",
       "    <tr>\n",
       "      <th>2010-03-18</th>\n",
       "      <td>0.609158</td>\n",
       "      <td>-0.246627</td>\n",
       "      <td>-0.990587</td>\n",
       "      <td>0.588925</td>\n",
       "      <td>0.483483</td>\n",
       "      <td>1.069855</td>\n",
       "      <td>-0.860414</td>\n",
       "      <td>0.111950</td>\n",
       "      <td>0.142347</td>\n",
       "      <td>1.050653</td>\n",
       "      <td>...</td>\n",
       "      <td>0.142347</td>\n",
       "      <td>1.050653</td>\n",
       "      <td>-0.032367</td>\n",
       "      <td>-0.281046</td>\n",
       "      <td>0.330983</td>\n",
       "      <td>0.142347</td>\n",
       "      <td>1.050653</td>\n",
       "      <td>-0.032367</td>\n",
       "      <td>-0.281046</td>\n",
       "      <td>0.330983</td>\n",
       "    </tr>\n",
       "  </tbody>\n",
       "</table>\n",
       "<p>5 rows × 43 columns</p>\n",
       "</div>"
      ],
      "text/plain": [
       "                 GDX         r         d  sma_short  sma_long   mom_sma  \\\n",
       "Date                                                                      \n",
       "2010-03-12  0.548041 -0.278755 -0.990587   0.570320  0.498346  1.069855   \n",
       "2010-03-15  0.544923 -0.030967 -0.990587   0.557708  0.493242  1.069855   \n",
       "2010-03-16  0.618513  1.049986  1.008886   0.564451  0.489140  1.069855   \n",
       "2010-03-17  0.627867  0.143354  1.008886   0.580809  0.485653  1.069855   \n",
       "2010-03-18  0.609158 -0.246627 -0.990587   0.588925  0.483483  1.069855   \n",
       "\n",
       "            vol_short  vol_long   r_lag_1   r_lag_2  ...  vol_short_lag_1  \\\n",
       "Date                                                 ...                    \n",
       "2010-03-12  -1.343973  0.187615  0.331543 -0.534818  ...         0.331543   \n",
       "2010-03-15  -1.353755  0.106062 -0.280024  0.332517  ...        -0.280024   \n",
       "2010-03-16  -0.692170  0.147441 -0.032082 -0.279168  ...        -0.032082   \n",
       "2010-03-17  -0.951384  0.147705  1.049542 -0.031178  ...         1.049542   \n",
       "2010-03-18  -0.860414  0.111950  0.142347  1.050653  ...         0.142347   \n",
       "\n",
       "            vol_short_lag_2  vol_short_lag_3  vol_short_lag_4  \\\n",
       "Date                                                            \n",
       "2010-03-12        -0.534818        -0.311839        -0.404665   \n",
       "2010-03-15         0.332517        -0.536727        -0.312179   \n",
       "2010-03-16        -0.279168         0.331848        -0.537108   \n",
       "2010-03-17        -0.031178        -0.280711         0.331624   \n",
       "2010-03-18         1.050653        -0.032367        -0.281046   \n",
       "\n",
       "            vol_short_lag_5  vol_long_lag_1  vol_long_lag_2  vol_long_lag_3  \\\n",
       "Date                                                                          \n",
       "2010-03-12         0.751894        0.331543       -0.534818       -0.311839   \n",
       "2010-03-15        -0.405189       -0.280024        0.332517       -0.536727   \n",
       "2010-03-16        -0.312718       -0.032082       -0.279168        0.331848   \n",
       "2010-03-17        -0.537611        1.049542       -0.031178       -0.280711   \n",
       "2010-03-18         0.330983        0.142347        1.050653       -0.032367   \n",
       "\n",
       "            vol_long_lag_4  vol_long_lag_5  \n",
       "Date                                        \n",
       "2010-03-12       -0.404665        0.751894  \n",
       "2010-03-15       -0.312179       -0.405189  \n",
       "2010-03-16       -0.537108       -0.312718  \n",
       "2010-03-17        0.331624       -0.537611  \n",
       "2010-03-18       -0.281046        0.330983  \n",
       "\n",
       "[5 rows x 43 columns]"
      ]
     },
     "execution_count": 27,
     "metadata": {},
     "output_type": "execute_result"
    }
   ],
   "source": [
    "train_norm.head()"
   ]
  },
  {
   "cell_type": "markdown",
   "id": "97de1707-b2fb-4bf5-b81e-70e8a0d78445",
   "metadata": {},
   "source": [
    "## Train and (back-)test the following algorithms for directional (long/short) trading (from `scikit-learn`):\n",
    "* `GaussianNB()`\n",
    "* `LogisticRegression()`\n",
    "* `DecisionTreeClassifier()`\n",
    "* `SVC()`\n",
    "* `MLPClassifier()`\n"
   ]
  },
  {
   "cell_type": "code",
   "execution_count": null,
   "id": "4f9df889-c586-4fd6-82e9-b7fa0e9ba54e",
   "metadata": {},
   "outputs": [],
   "source": []
  }
 ],
 "metadata": {
  "kernelspec": {
   "display_name": "Python 3 (ipykernel)",
   "language": "python",
   "name": "python3"
  },
  "language_info": {
   "codemirror_mode": {
    "name": "ipython",
    "version": 3
   },
   "file_extension": ".py",
   "mimetype": "text/x-python",
   "name": "python",
   "nbconvert_exporter": "python",
   "pygments_lexer": "ipython3",
   "version": "3.10.9"
  }
 },
 "nbformat": 4,
 "nbformat_minor": 5
}
